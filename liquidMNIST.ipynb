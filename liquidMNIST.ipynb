{
  "nbformat": 4,
  "nbformat_minor": 0,
  "metadata": {
    "colab": {
      "provenance": [],
      "gpuType": "T4"
    },
    "kernelspec": {
      "name": "python3",
      "display_name": "Python 3"
    },
    "language_info": {
      "name": "python"
    },
    "accelerator": "GPU"
  },
  "cells": [
    {
      "cell_type": "markdown",
      "source": [
        "**MNIST Dataset Over a Liquid Neural Network**\n",
        "\n",
        "**assembled by babycommando, 2024**\n"
      ],
      "metadata": {
        "id": "NbenCMqlewah"
      }
    },
    {
      "cell_type": "code",
      "source": [
        "!pip install ncps"
      ],
      "metadata": {
        "colab": {
          "base_uri": "https://localhost:8080/"
        },
        "id": "iwvy3DlCaHA8",
        "outputId": "34afb531-522a-4cb1-b602-e3e65d0156c2"
      },
      "execution_count": null,
      "outputs": [
        {
          "output_type": "stream",
          "name": "stdout",
          "text": [
            "Collecting ncps\n",
            "  Downloading ncps-1.0.0-py3-none-any.whl (59 kB)\n",
            "\u001b[?25l     \u001b[90m━━━━━━━━━━━━━━━━━━━━━━━━━━━━━━━━━━━━━━━━\u001b[0m \u001b[32m0.0/59.1 kB\u001b[0m \u001b[31m?\u001b[0m eta \u001b[36m-:--:--\u001b[0m\r\u001b[2K     \u001b[90m━━━━━━━━━━━━━━━━━━━━━━━━━━━━━━━━━━━━━━━━\u001b[0m \u001b[32m59.1/59.1 kB\u001b[0m \u001b[31m2.6 MB/s\u001b[0m eta \u001b[36m0:00:00\u001b[0m\n",
            "\u001b[?25hRequirement already satisfied: future in /usr/local/lib/python3.10/dist-packages (from ncps) (0.18.3)\n",
            "Requirement already satisfied: packaging in /usr/local/lib/python3.10/dist-packages (from ncps) (24.1)\n",
            "Installing collected packages: ncps\n",
            "Successfully installed ncps-1.0.0\n"
          ]
        }
      ]
    },
    {
      "cell_type": "code",
      "execution_count": null,
      "metadata": {
        "id": "eVRH8mqgZruK"
      },
      "outputs": [],
      "source": [
        "import tensorflow as tf\n",
        "from tensorflow.keras.layers import Dense, Flatten, Reshape\n",
        "from tensorflow.keras.datasets import mnist\n",
        "from tensorflow.keras.utils import to_categorical\n",
        "from ncps.tf import LTC\n",
        "from ncps.wirings import AutoNCP\n",
        "import numpy as np\n",
        "import matplotlib.pyplot as plt"
      ]
    },
    {
      "cell_type": "code",
      "source": [
        "# Load and preprocess the MNIST dataset\n",
        "(x_train, y_train), (x_test, y_test) = mnist.load_data()\n",
        "x_train = x_train / 255.0\n",
        "x_test = x_test / 255.0\n",
        "y_train = to_categorical(y_train, 10)\n",
        "y_test = to_categorical(y_test, 10)\n",
        "\n",
        "# Reshape the data to fit the model input requirements\n",
        "x_train = x_train.reshape(-1, 28, 28, 1)\n",
        "x_test = x_test.reshape(-1, 28, 28, 1)"
      ],
      "metadata": {
        "id": "9_GZuAgJZtwb"
      },
      "execution_count": null,
      "outputs": []
    },
    {
      "cell_type": "code",
      "source": [
        "# Define the wiring for the NCP with 30 neurons and 10 outputs\n",
        "wiring = AutoNCP(30, 10)\n",
        "\n",
        "# Define the model with the LTC layer\n",
        "model = tf.keras.models.Sequential([\n",
        "    tf.keras.layers.InputLayer(input_shape=(28, 28, 1)),  # input shape based on the MNIST images\n",
        "    Reshape((28, 28)),  # Reshape input to match expected input for LTC\n",
        "    LTC(wiring, return_sequences=False),  # define a single Liquid Time-Constant layer\n",
        "    Dense(10, activation='softmax')  # output layer for classification\n",
        "])\n"
      ],
      "metadata": {
        "id": "F9NMC6RnZvHf"
      },
      "execution_count": null,
      "outputs": []
    },
    {
      "cell_type": "code",
      "source": [
        "# Compile the model\n",
        "model.compile(optimizer='adam', loss='categorical_crossentropy', metrics=['accuracy'])"
      ],
      "metadata": {
        "id": "0CzPL0LlZ21b"
      },
      "execution_count": null,
      "outputs": []
    },
    {
      "cell_type": "code",
      "source": [
        "# Train the model\n",
        "model.fit(x_train, y_train, epochs=5, batch_size=64, validation_split=0.2)"
      ],
      "metadata": {
        "colab": {
          "base_uri": "https://localhost:8080/"
        },
        "id": "4oR1-mLPZ31a",
        "outputId": "a80835df-bed9-4d1e-9c04-d8fdbab57b2d"
      },
      "execution_count": null,
      "outputs": [
        {
          "output_type": "stream",
          "name": "stdout",
          "text": [
            "Epoch 1/5\n",
            "750/750 [==============================] - 78s 94ms/step - loss: 1.7385 - accuracy: 0.3789 - val_loss: 1.1722 - val_accuracy: 0.5886\n",
            "Epoch 2/5\n",
            "750/750 [==============================] - 69s 92ms/step - loss: 1.0499 - accuracy: 0.6390 - val_loss: 0.8855 - val_accuracy: 0.6913\n",
            "Epoch 3/5\n",
            "750/750 [==============================] - 69s 92ms/step - loss: 0.8658 - accuracy: 0.6974 - val_loss: 0.7791 - val_accuracy: 0.7166\n",
            "Epoch 4/5\n",
            "750/750 [==============================] - 71s 94ms/step - loss: 0.7880 - accuracy: 0.7247 - val_loss: 0.7328 - val_accuracy: 0.7296\n",
            "Epoch 5/5\n",
            "750/750 [==============================] - 72s 97ms/step - loss: 0.7382 - accuracy: 0.7426 - val_loss: 0.6754 - val_accuracy: 0.7577\n"
          ]
        },
        {
          "output_type": "execute_result",
          "data": {
            "text/plain": [
              "<keras.src.callbacks.History at 0x79ba8c128370>"
            ]
          },
          "metadata": {},
          "execution_count": 23
        }
      ]
    },
    {
      "cell_type": "code",
      "source": [
        "# Evaluate the model\n",
        "test_loss, test_acc = model.evaluate(x_test, y_test, verbose=2)\n",
        "print(f'Test accuracy: {test_acc}')"
      ],
      "metadata": {
        "colab": {
          "base_uri": "https://localhost:8080/"
        },
        "id": "rr6TcZa6Z4mS",
        "outputId": "14c664cf-0219-4a40-83d3-b92bdea67a3f"
      },
      "execution_count": null,
      "outputs": [
        {
          "output_type": "stream",
          "name": "stdout",
          "text": [
            "313/313 - 7s - loss: 0.6984 - accuracy: 0.7576 - 7s/epoch - 24ms/step\n",
            "Test accuracy: 0.7576000094413757\n"
          ]
        }
      ]
    },
    {
      "cell_type": "code",
      "source": [
        "# Inference on a single image\n",
        "def infer_single_image(model, image, true_label):\n",
        "    image = image.reshape(1, 28, 28, 1)\n",
        "    prediction = model.predict(image)\n",
        "    predicted_label = np.argmax(prediction)\n",
        "\n",
        "    plt.figure()\n",
        "    plt.imshow(image.reshape(28, 28), cmap='gray')\n",
        "    plt.title(f'Predicted: {predicted_label}, True: {true_label}')\n",
        "    plt.axis('off')\n",
        "    plt.show()\n",
        "\n",
        "# Select an image from the test set\n",
        "index = 9  # You can change this index to test other images\n",
        "test_image = x_test[index]\n",
        "true_label = np.argmax(y_test[index])\n",
        "\n",
        "# Perform inference and display the result\n",
        "infer_single_image(model, test_image, true_label)"
      ],
      "metadata": {
        "colab": {
          "base_uri": "https://localhost:8080/",
          "height": 446
        },
        "id": "tTfzmIpieaC9",
        "outputId": "a63f4189-e1f8-4ba9-b7ac-b08dce47c8ad"
      },
      "execution_count": null,
      "outputs": [
        {
          "output_type": "stream",
          "name": "stdout",
          "text": [
            "1/1 [==============================] - 0s 35ms/step\n"
          ]
        },
        {
          "output_type": "display_data",
          "data": {
            "text/plain": [
              "<Figure size 640x480 with 1 Axes>"
            ],
            "image/png": "[encoded data removed]"
          },
          "metadata": {}
        }
      ]
    }
  ]
}